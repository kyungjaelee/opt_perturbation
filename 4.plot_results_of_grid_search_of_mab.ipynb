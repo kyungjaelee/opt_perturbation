{
 "cells": [
  {
   "cell_type": "markdown",
   "metadata": {},
   "source": [
    "# Load Packages"
   ]
  },
  {
   "cell_type": "code",
   "execution_count": 1,
   "metadata": {},
   "outputs": [],
   "source": [
    "import numpy as np\n",
    "import matplotlib.pyplot as plt\n",
    "import matplotlib as mpl\n",
    "%matplotlib inline"
   ]
  },
  {
   "cell_type": "markdown",
   "metadata": {},
   "source": [
    "# Load Data"
   ]
  },
  {
   "cell_type": "code",
   "execution_count": 6,
   "metadata": {},
   "outputs": [],
   "source": [
    "mean_type='one_hot'\n",
    "noise_type='pareto'\n",
    "algos_type='mr-ucb'\n",
    "# algos_type='ape-bounded'\n",
    "\n",
    "p=1.8\n",
    "scale = 1.0\n",
    "gap = 0.5\n",
    "K = 10\n",
    "samples=5000\n",
    "n_seeds=10\n",
    "\n",
    "total_regret_list = []\n",
    "agv_regret_list = []\n",
    "action_cnt = []\n",
    "\n",
    "for seed in range(1,n_seeds):\n",
    "    filename = 'multi_armed_bandit_results/grid_search_{:}-{:}-{:}-p{:.2f}-s{:.2f}-g{:.2f}-K{:d}-size{:d}-seed{:d}.npy'.format(mean_type,noise_type,algos_type,p,scale,gap,K,samples,seed)\n",
    "    with open(filename,'rb') as f:\n",
    "        data_per_seed=np.load(f)\n",
    "        algos_name=data_per_seed['algos_name']\n",
    "        total_regret_list.append(data_per_seed['total_regret_list'])\n",
    "        agv_regret_list.append(data_per_seed['agv_regret_list'])\n",
    "        action_cnt.append(data_per_seed['action_cnt'])"
   ]
  },
  {
   "cell_type": "markdown",
   "metadata": {},
   "source": [
    "# Find The Best Hyperparameters"
   ]
  },
  {
   "cell_type": "code",
   "execution_count": 7,
   "metadata": {},
   "outputs": [
    {
     "name": "stdout",
     "output_type": "stream",
     "text": [
      "K: 100, Gap: 0.50\n",
      "Minimum Avg Regret: 0.366311\n",
      "Alg Name: mr-ucb(q:1.5,c:1.1514,u:53.35)\n"
     ]
    }
   ],
   "source": [
    "mean_avg_regret_list = np.mean(agv_regret_list,axis=0)\n",
    "min_idx = np.argmin(mean_avg_regret_list[:,-1])\n",
    "print('K: {:d}, Gap: {:.2f}'.format(K,gap))\n",
    "print('Minimum Avg Regret: {:.6f}'.format(mean_avg_regret_list[min_idx,-1]))\n",
    "print('Alg Name: {:}'.format(algos_name[min_idx]))"
   ]
  },
  {
   "cell_type": "code",
   "execution_count": null,
   "metadata": {},
   "outputs": [],
   "source": []
  }
 ],
 "metadata": {
  "kernelspec": {
   "display_name": "Python 3",
   "language": "python",
   "name": "python3"
  },
  "language_info": {
   "codemirror_mode": {
    "name": "ipython",
    "version": 3
   },
   "file_extension": ".py",
   "mimetype": "text/x-python",
   "name": "python",
   "nbconvert_exporter": "python",
   "pygments_lexer": "ipython3",
   "version": "3.6.8"
  }
 },
 "nbformat": 4,
 "nbformat_minor": 4
}
