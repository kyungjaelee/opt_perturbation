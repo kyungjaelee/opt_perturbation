{
 "cells": [
  {
   "cell_type": "markdown",
   "metadata": {},
   "source": [
    "# Load Packages"
   ]
  },
  {
   "cell_type": "code",
   "execution_count": 1,
   "metadata": {},
   "outputs": [],
   "source": [
    "import numpy as np\n",
    "import matplotlib.pyplot as plt\n",
    "import matplotlib as mpl\n",
    "%matplotlib inline"
   ]
  },
  {
   "cell_type": "markdown",
   "metadata": {},
   "source": [
    "# Load Data"
   ]
  },
  {
   "cell_type": "code",
   "execution_count": 2,
   "metadata": {},
   "outputs": [],
   "source": [
    "mean_type='one_hot'\n",
    "noise_type='pareto'\n",
    "algos_type='ape-pareto'\n",
    "\n",
    "p=1.1\n",
    "scale = 1.0\n",
    "gap = 0.1\n",
    "K = 100\n",
    "samples=30000\n",
    "n_seeds=20\n",
    "\n",
    "total_regret_list = []\n",
    "agv_regret_list = []\n",
    "action_cnt = []\n",
    "\n",
    "for seed in range(1,n_seeds):\n",
    "    filename = 'multi_armed_bandit_results/{:}-{:}-{:}-p{:.2f}-s{:.2f}-g{:.2f}-K{:d}-size{:d}-seed{:d}.npy'.format(mean_type,noise_type,algos_type,p,scale,gap,K,samples,seed)\n",
    "    with open(filename,'rb') as f:\n",
    "        data_per_seed=np.load(f)\n",
    "        algos_name=data_per_seed['algos_name']\n",
    "        total_regret_list.append(data_per_seed['total_regret_list'])\n",
    "        agv_regret_list.append(data_per_seed['agv_regret_list'])\n",
    "        action_cnt.append(data_per_seed['action_cnt'])"
   ]
  },
  {
   "cell_type": "markdown",
   "metadata": {},
   "source": [
    "# Find The Best Hyperparameters"
   ]
  },
  {
   "cell_type": "code",
   "execution_count": 3,
   "metadata": {},
   "outputs": [
    {
     "name": "stdout",
     "output_type": "stream",
     "text": [
      "K: 100, Gap: 0.10\n",
      "Minimum Avg Regret: 0.086143\n",
      "Alg Name: ape-pareto(c:0.20,$\\alpha$:8.00,$\\lambda$:2.00)\n"
     ]
    }
   ],
   "source": [
    "mean_avg_regret_list = np.mean(agv_regret_list,axis=0)\n",
    "min_idx = np.argmin(mean_avg_regret_list[:,-1])\n",
    "print('K: {:d}, Gap: {:.2f}'.format(K,gap))\n",
    "print('Minimum Avg Regret: {:.6f}'.format(mean_avg_regret_list[min_idx,-1]))\n",
    "print('Alg Name: {:}'.format(algos_name[min_idx]))"
   ]
  },
  {
   "cell_type": "code",
   "execution_count": 17,
   "metadata": {},
   "outputs": [
    {
     "name": "stdout",
     "output_type": "stream",
     "text": [
      "K: 100, Gap: 0.10\n",
      "Minimum Avg Regret: 0.097150\n",
      "Alg Name: ape-pareto(c:0.10,$\\alpha$:4.61,$\\lambda$:4.61)\n"
     ]
    }
   ],
   "source": [
    "min_list_idx = np.argmin([mean_avg_regret_list[51*(i+1)-1,-1] for i in range(10)])\n",
    "min_opt_idx = 51*(min_list_idx+1)-1\n",
    "print('K: {:d}, Gap: {:.2f}'.format(K,gap))\n",
    "print('Minimum Avg Regret: {:.6f}'.format(mean_avg_regret_list[min_opt_idx,-1]))\n",
    "print('Alg Name: {:}'.format(algos_name[min_opt_idx]))"
   ]
  }
 ],
 "metadata": {
  "kernelspec": {
   "display_name": "Python 3",
   "language": "python",
   "name": "python3"
  },
  "language_info": {
   "codemirror_mode": {
    "name": "ipython",
    "version": 3
   },
   "file_extension": ".py",
   "mimetype": "text/x-python",
   "name": "python",
   "nbconvert_exporter": "python",
   "pygments_lexer": "ipython3",
   "version": "3.6.8"
  }
 },
 "nbformat": 4,
 "nbformat_minor": 4
}
