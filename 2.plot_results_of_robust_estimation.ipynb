{
 "cells": [
  {
   "cell_type": "markdown",
   "metadata": {},
   "source": [
    "# Load Packages"
   ]
  },
  {
   "cell_type": "code",
   "execution_count": 1,
   "metadata": {},
   "outputs": [],
   "source": [
    "import numpy as np\n",
    "import matplotlib.pyplot as plt\n",
    "import matplotlib as mpl\n",
    "%matplotlib inline"
   ]
  },
  {
   "cell_type": "markdown",
   "metadata": {},
   "source": [
    "# Load Data"
   ]
  },
  {
   "cell_type": "code",
   "execution_count": 2,
   "metadata": {},
   "outputs": [
    {
     "ename": "FileNotFoundError",
     "evalue": "[Errno 2] No such file or directory: './estimation_results/pareto-p1.10-s1.00-m1.00-size100000-seed1.npy'",
     "output_type": "error",
     "traceback": [
      "\u001b[1;31m---------------------------------------------------------------------------\u001b[0m",
      "\u001b[1;31mFileNotFoundError\u001b[0m                         Traceback (most recent call last)",
      "\u001b[1;32m<ipython-input-2-d13235aaaecc>\u001b[0m in \u001b[0;36m<module>\u001b[1;34m\u001b[0m\n\u001b[0;32m     14\u001b[0m \u001b[1;32mfor\u001b[0m \u001b[0mseed\u001b[0m \u001b[1;32min\u001b[0m \u001b[0mrange\u001b[0m\u001b[1;33m(\u001b[0m\u001b[1;36m1\u001b[0m\u001b[1;33m,\u001b[0m\u001b[0mn_seeds\u001b[0m\u001b[1;33m)\u001b[0m\u001b[1;33m:\u001b[0m\u001b[1;33m\u001b[0m\u001b[1;33m\u001b[0m\u001b[0m\n\u001b[0;32m     15\u001b[0m     \u001b[0mfilename\u001b[0m \u001b[1;33m=\u001b[0m \u001b[1;34m'./estimation_results/{:}-p{:.2f}-s{:.2f}-m{:.2f}-size{:d}-seed{:d}.npy'\u001b[0m\u001b[1;33m.\u001b[0m\u001b[0mformat\u001b[0m\u001b[1;33m(\u001b[0m\u001b[0mnoise_type\u001b[0m\u001b[1;33m,\u001b[0m\u001b[0mp\u001b[0m\u001b[1;33m,\u001b[0m\u001b[0mscale\u001b[0m\u001b[1;33m,\u001b[0m\u001b[0mmean\u001b[0m\u001b[1;33m,\u001b[0m\u001b[0msamples\u001b[0m\u001b[1;33m,\u001b[0m\u001b[0mseed\u001b[0m\u001b[1;33m)\u001b[0m\u001b[1;33m\u001b[0m\u001b[1;33m\u001b[0m\u001b[0m\n\u001b[1;32m---> 16\u001b[1;33m     \u001b[1;32mwith\u001b[0m \u001b[0mopen\u001b[0m\u001b[1;33m(\u001b[0m\u001b[0mfilename\u001b[0m\u001b[1;33m,\u001b[0m\u001b[1;34m'rb'\u001b[0m\u001b[1;33m)\u001b[0m \u001b[1;32mas\u001b[0m \u001b[0mf\u001b[0m\u001b[1;33m:\u001b[0m\u001b[1;33m\u001b[0m\u001b[1;33m\u001b[0m\u001b[0m\n\u001b[0m\u001b[0;32m     17\u001b[0m         \u001b[0mdata_for_seed\u001b[0m \u001b[1;33m=\u001b[0m \u001b[0mnp\u001b[0m\u001b[1;33m.\u001b[0m\u001b[0mload\u001b[0m\u001b[1;33m(\u001b[0m\u001b[0mf\u001b[0m\u001b[1;33m)\u001b[0m\u001b[1;33m\u001b[0m\u001b[1;33m\u001b[0m\u001b[0m\n\u001b[0;32m     18\u001b[0m         \u001b[0msample_mean_error_list\u001b[0m\u001b[1;33m.\u001b[0m\u001b[0mappend\u001b[0m\u001b[1;33m(\u001b[0m\u001b[0mdata_for_seed\u001b[0m\u001b[1;33m[\u001b[0m\u001b[1;34m'sample_mean'\u001b[0m\u001b[1;33m]\u001b[0m\u001b[1;33m)\u001b[0m\u001b[1;33m\u001b[0m\u001b[1;33m\u001b[0m\u001b[0m\n",
      "\u001b[1;31mFileNotFoundError\u001b[0m: [Errno 2] No such file or directory: './estimation_results/pareto-p1.10-s1.00-m1.00-size100000-seed1.npy'"
     ]
    }
   ],
   "source": [
    "noise_type='pareto'\n",
    "p=1.1\n",
    "scale = 1.0\n",
    "mean = 1.0\n",
    "samples=100000\n",
    "n_seeds=100\n",
    "\n",
    "sample_mean_error_list = []\n",
    "trunc_mean_error_list = []\n",
    "median_mean_error_list = []\n",
    "catoni_mean_error_list = []\n",
    "weakly_robust_mean_error_list = []\n",
    "\n",
    "for seed in range(1,n_seeds):\n",
    "    filename = './estimation_results/{:}-p{:.2f}-s{:.2f}-m{:.2f}-size{:d}-seed{:d}.npy'.format(noise_type,p,scale,mean,samples,seed)\n",
    "    with open(filename,'rb') as f:\n",
    "        data_for_seed = np.load(f)\n",
    "        sample_mean_error_list.append(data_for_seed['sample_mean'])\n",
    "        trunc_mean_error_list.append(data_for_seed['trunc_mean'])\n",
    "        median_mean_error_list.append(data_for_seed['median_mean'])\n",
    "        catoni_mean_error_list.append(data_for_seed['catoni_mean'])\n",
    "        weakly_robust_mean_error_list.append(data_for_seed['weakly_robust_mean'])"
   ]
  },
  {
   "cell_type": "markdown",
   "metadata": {},
   "source": [
    "# Plot Results"
   ]
  },
  {
   "cell_type": "code",
   "execution_count": null,
   "metadata": {},
   "outputs": [],
   "source": [
    "def linearplot_with_confidence(x_list, error_list, label, marker=\"\", color='r'):\n",
    "    mean_list = np.mean(error_list,axis=0)\n",
    "    std_list = np.mean(error_list,axis=0)\n",
    "    a = 0.25\n",
    "    plt.fill_between(x_list,mean_list-a*std_list,mean_list+a*std_list,alpha=0.13, color=color)\n",
    "    plt.plot(x_list,mean_list,label=label,marker=marker, ms=11, c=color, markevery=10)\n",
    "\n",
    "x_list = 1000*np.arange(len(median_mean_error_list[0]))\n",
    "linearplot_with_confidence(x_list, median_mean_error_list, \"Median of Mean\",\">\", \"m\")\n",
    "linearplot_with_confidence(x_list, sample_mean_error_list, \"Sample Mean\", \"v\", \"c\")\n",
    "linearplot_with_confidence(x_list, trunc_mean_error_list, \"Truncated Mean\", \"^\", \"b\")\n",
    "linearplot_with_confidence(x_list, catoni_mean_error_list, \"Catoni's Mean\",\"<\", \"g\")\n",
    "linearplot_with_confidence(x_list, weakly_robust_mean_error_list, \"Weakly Robust Mean\",\"o\", \"r\")\n",
    "\n",
    "# plt.xscale(\"log\")\n",
    "plt.xlim([np.min(x_list),np.max(x_list)])\n",
    "# plt.ylim([0.05,0.25]) # 1.5 1.0\n",
    "# plt.ylim([0.01,0.05]) # 1.9 1.0\n",
    "# plt.ylim([0.1,0.7]) # 1.2 0.5\n",
    "# plt.ylim([0.025,0.16]) #1.2 0.1\n",
    "# plt.ylim([0.3,1.4]) #1.2 1.0\n",
    "# plt.ylim([0.1,0.4]) #1.1 0.1\n",
    "# plt.ylim([0.3,1.4]) #1.1 0.5\n",
    "# plt.ylim([1.0,4.0]) #1.1 1.0\n",
    "plt.xlabel(\"Number of Data\",fontsize=25)\n",
    "plt.ylabel(\"Error\",fontsize=25)\n",
    "\n",
    "plt.xticks(x_list[::25],x_list[::25],fontsize=18)\n",
    "plt.yticks(fontsize=18)\n",
    "# y_ticks,_=plt.yticks()\n",
    "# plt.yticks(y_ticks[::2], [\"{:.2f}\".format(tick) for tick in y_ticks[::2]],fontsize=18)\n",
    "plt.legend(loc='center left', bbox_to_anchor=(1, 0.5), prop={'size' : 23})\n",
    "# print(plt.yticks())\n",
    "plt.show()"
   ]
  }
 ],
 "metadata": {
  "kernelspec": {
   "display_name": "Python 3",
   "language": "python",
   "name": "python3"
  },
  "language_info": {
   "codemirror_mode": {
    "name": "ipython",
    "version": 3
   },
   "file_extension": ".py",
   "mimetype": "text/x-python",
   "name": "python",
   "nbconvert_exporter": "python",
   "pygments_lexer": "ipython3",
   "version": "3.9.2"
  }
 },
 "nbformat": 4,
 "nbformat_minor": 4
}
