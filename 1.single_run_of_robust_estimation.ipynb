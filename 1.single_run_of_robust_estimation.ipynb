{
 "cells": [
  {
   "cell_type": "markdown",
   "metadata": {},
   "source": [
    "# Load Packages"
   ]
  },
  {
   "cell_type": "code",
   "execution_count": 1,
   "metadata": {},
   "outputs": [],
   "source": [
    "import numpy as np\n",
    "\n",
    "from estimation.robust_estimator import SampleMean, TruncatedMean, MedianofMean, CatoniMean, WeaklyRobustMean\n",
    "from estimation.heavy_tail_observations import weibull_observation, frechet_observation, pareto_observation, gaussian_observation"
   ]
  },
  {
   "cell_type": "markdown",
   "metadata": {},
   "source": [
    "# Run Experiments"
   ]
  },
  {
   "cell_type": "code",
   "execution_count": 2,
   "metadata": {},
   "outputs": [
    {
     "name": "stderr",
     "output_type": "stream",
     "text": [
      "/home/dlxhrl/bandit/estimation/robust_estimator.py:114: RuntimeWarning: invalid value encountered in double_scalars\n",
      "  remainder = lambda x: np.sum(_cal_psi(alpha*(np.array(self._y_list) - x),self._p))/alpha/n\n"
     ]
    },
    {
     "name": "stdout",
     "output_type": "stream",
     "text": [
      "Noise - pareto, Moment - 1.90, Nu = 39.00\n",
      "Sample Mean Error : 0.055\n",
      "Truncated Mean Error : 0.055\n",
      "Median of Mean Error : 0.092\n",
      "Catoni's Mean Error : 0.055\n",
      "Weakly Robust Mean Error : 0.055\n"
     ]
    }
   ],
   "source": [
    "seed = 1\n",
    "samples = 5000\n",
    "steps = 100\n",
    "noise_type = 'pareto'\n",
    "p = 1.9\n",
    "scale = 1.0\n",
    "mean = 1.0\n",
    "\n",
    "if noise_type == 'weibull':\n",
    "    alpha = p\n",
    "    nu = scale**p\n",
    "    \n",
    "    get_observation = lambda : weibull_observation(mean,scale,alpha)\n",
    "elif noise_type == 'frechet':\n",
    "    alpha = p+0.05\n",
    "    nu = scale**p*gamma(1-p/alpha)\n",
    "    \n",
    "    get_observation = lambda : frechet_observation(mean,scale,alpha)\n",
    "elif noise_type == 'pareto':\n",
    "    alpha = p+0.05\n",
    "    nu = alpha*scale**alpha/(alpha-p)\n",
    "    \n",
    "    get_observation = lambda : pareto_observation(mean,scale,alpha)\n",
    "elif noise_type == 'gaussian':\n",
    "    nu = scale**2\n",
    "    \n",
    "    get_observation = lambda : gaussian_observation(mean,scale)\n",
    "    \n",
    "sample_mean = SampleMean(nu, p)\n",
    "# trunc_mean = TruncatedMean(nu, p)\n",
    "trunc_mean = TruncatedMean(nu, p, delta=1.0, schedule=True)\n",
    "# median_mean = MedianofMean(nu,p)\n",
    "median_mean = MedianofMean(nu,p, delta=1.0, schedule=True)\n",
    "# catoni_mean = CatoniMean(nu,p)\n",
    "catoni_mean = CatoniMean(nu,p, delta=1.0, schedule=True)\n",
    "weakly_robust_mean = WeaklyRobustMean(nu,p)\n",
    "\n",
    "sample_mean_error_list = []\n",
    "trunc_mean_error_list = []\n",
    "median_mean_error_list = []\n",
    "catoni_mean_error_list = []\n",
    "weakly_robust_mean_error_list = []\n",
    "\n",
    "np.random.seed(seed)\n",
    "for i in range(samples):\n",
    "    y = get_observation()\n",
    "\n",
    "    sample_mean.update(y)\n",
    "    trunc_mean.update(y)\n",
    "    median_mean.update(y)\n",
    "    catoni_mean.update(y)\n",
    "    weakly_robust_mean.update(y)\n",
    "\n",
    "    if ((i+1)%steps)==0 or i==0:\n",
    "        y_hat = sample_mean.predict()\n",
    "        sample_mean_error_list.append(np.abs(mean-y_hat))\n",
    "        y_hat = trunc_mean.predict()\n",
    "        trunc_mean_error_list.append(np.abs(mean-y_hat))\n",
    "        y_hat = median_mean.predict()\n",
    "        median_mean_error_list.append(np.abs(mean-y_hat))\n",
    "        y_hat = catoni_mean.predict()\n",
    "        catoni_mean_error_list.append(np.abs(mean-y_hat))\n",
    "        y_hat = weakly_robust_mean.predict()\n",
    "        weakly_robust_mean_error_list.append(np.abs(mean-y_hat))\n",
    "        \n",
    "print(\"Noise - {}, Moment - {:.2f}, Nu = {:.2f}\".format(noise_type, p, nu))\n",
    "print(\"Sample Mean Error : {:.3f}\".format(sample_mean_error_list[-1]))\n",
    "print(\"Truncated Mean Error : {:.3f}\".format(trunc_mean_error_list[-1]))\n",
    "print(\"Median of Mean Error : {:.3f}\".format(median_mean_error_list[-1]))\n",
    "print(\"Catoni's Mean Error : {:.3f}\".format(catoni_mean_error_list[-1]))\n",
    "print(\"Weakly Robust Mean Error : {:.3f}\".format(weakly_robust_mean_error_list[-1]))"
   ]
  }
 ],
 "metadata": {
  "kernelspec": {
   "display_name": "Python 3",
   "language": "python",
   "name": "python3"
  },
  "language_info": {
   "codemirror_mode": {
    "name": "ipython",
    "version": 3
   },
   "file_extension": ".py",
   "mimetype": "text/x-python",
   "name": "python",
   "nbconvert_exporter": "python",
   "pygments_lexer": "ipython3",
   "version": "3.6.8"
  }
 },
 "nbformat": 4,
 "nbformat_minor": 4
}
