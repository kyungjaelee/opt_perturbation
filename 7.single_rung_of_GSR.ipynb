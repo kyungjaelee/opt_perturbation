{
 "cells": [
  {
   "cell_type": "code",
   "execution_count": 1,
   "metadata": {},
   "outputs": [],
   "source": [
    "import numpy as np\n",
    "from multi_armed_bandit.reward_functions import Rewards\n",
    "from multi_armed_bandit.algorithms import GSR\n",
    "\n",
    "from matplotlib import pyplot as plt"
   ]
  },
  {
   "cell_type": "code",
   "execution_count": 2,
   "metadata": {},
   "outputs": [],
   "source": [
    "mean_type = 'one_hot'\n",
    "noise_type = 'pareto'\n",
    "p = 1.1\n",
    "scale = 0.1\n",
    "K = 10\n",
    "       \n",
    "samples = 5000*K\n",
    "\n",
    "if mean_type == 'one_hot':\n",
    "    gap= 0.3\n",
    "    means = np.ones(K)\n",
    "    means[:K-1]-=gap\n",
    "elif mean_type == 'random':\n",
    "    means = np.random.uniform(-1, 1, K)\n",
    "elif mean_type == 'sequence':\n",
    "    means = np.linspace(0, 1., k)\n",
    "    \n",
    "rewards_generator = Rewards(means,p,scale,noise_type)\n",
    "nu = rewards_generator.nu\n",
    "\n",
    "algos = [GSR(K, p, nu, T=samples, q=0.01),\n",
    "         GSR(K, p, nu, T=samples, q=0.5),\n",
    "         GSR(K, p, nu, T=samples, q=0.9)]\n",
    "\n",
    "regret_list = [[] for _ in range(len(algos))]\n",
    "agv_regret_list = [[] for _ in range(len(algos))]\n",
    "action_cnt = [np.zeros(K) for _ in range(len(algos))]\n",
    "\n",
    "for step in range(samples):\n",
    "    rewards = rewards_generator.get_observations()\n",
    "\n",
    "    for alg_idx, algo in enumerate(algos):\n",
    "        a = algo.choose(step)\n",
    "        r = rewards[a]\n",
    "        algo.update(a,r,step)\n",
    "        regret = np.max(means)- means[a]\n",
    "        regret_list[alg_idx].append(regret)\n",
    "        agv_regret_list[alg_idx].append(np.mean(regret_list[alg_idx]))\n",
    "        action_cnt[alg_idx][a]+=1"
   ]
  },
  {
   "cell_type": "code",
   "execution_count": 3,
   "metadata": {},
   "outputs": [
    {
     "data": {
      "image/png": "[encoded data removed]",
      "text/plain": [
       "<Figure size 432x288 with 1 Axes>"
      ]
     },
     "metadata": {
      "needs_background": "light"
     },
     "output_type": "display_data"
    }
   ],
   "source": [
    "# plt.plot(gap*np.arange(samples))\n",
    "for alg_idx, algo in enumerate(algos):\n",
    "    plt.plot(agv_regret_list[alg_idx][K:], label=\"GSR\")\n",
    "#     plt.plot(np.cumsum(regret_list[alg_idx][K:]), label=algo.estimator_type)\n",
    "# plt.ylim([0.0,0.1])\n",
    "plt.legend()\n",
    "plt.show()"
   ]
  }
 ],
 "metadata": {
  "kernelspec": {
   "display_name": "Python 3",
   "language": "python",
   "name": "python3"
  },
  "language_info": {
   "codemirror_mode": {
    "name": "ipython",
    "version": 3
   },
   "file_extension": ".py",
   "mimetype": "text/x-python",
   "name": "python",
   "nbconvert_exporter": "python",
   "pygments_lexer": "ipython3",
   "version": "3.6.8"
  }
 },
 "nbformat": 4,
 "nbformat_minor": 4
}
